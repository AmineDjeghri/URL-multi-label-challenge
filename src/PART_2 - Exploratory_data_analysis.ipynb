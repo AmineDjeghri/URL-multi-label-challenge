{
 "cells": [
  {
   "cell_type": "markdown",
   "metadata": {},
   "source": [
    "# PART 2 Exploratory data analysis sur la colonne `day`"
   ]
  },
  {
   "cell_type": "markdown",
   "metadata": {},
   "source": [
    "Cette partie est la suite de la partie une et effectue une analyse exploratoire sur la variable jour."
   ]
  },
  {
   "cell_type": "code",
   "execution_count": 74,
   "metadata": {},
   "outputs": [],
   "source": [
    "import pandas as pd \n",
    "from pathlib import Path\n",
    "import matplotlib.pyplot as plt\n",
    "import seaborn as sns\n",
    "from sklearn.preprocessing import MultiLabelBinarizer\n",
    "import numpy as np\n",
    "import spacy\n",
    "from urllib.parse import urlparse\n",
    "import re\n",
    "import regex\n",
    "import nltk\n",
    "from sklearn.feature_extraction.text import CountVectorizer\n",
    "from sklearn.feature_extraction.text import TfidfTransformer\n",
    "from sklearn.feature_extraction.text import TfidfVectorizer \n",
    "from nltk.stem.snowball import SnowballStemmer\n",
    "# !python -m spacy download fr_core_news_sm\n",
    "\n",
    "from unidecode import unidecode\n",
    "from nltk.corpus import stopwords\n"
   ]
  },
  {
   "cell_type": "markdown",
   "metadata": {},
   "source": [
    "## Lecture des données"
   ]
  },
  {
   "cell_type": "code",
   "execution_count": 2,
   "metadata": {},
   "outputs": [
    {
     "name": "stdout",
     "output_type": "stream",
     "text": [
      "part-00000-1b8fcd71-6348-4510-a9dc-bdd7dcf82f2d-c000.snappy.parquet\n",
      "part-00001-1b8fcd71-6348-4510-a9dc-bdd7dcf82f2d-c000.snappy.parquet\n",
      "part-00002-1b8fcd71-6348-4510-a9dc-bdd7dcf82f2d-c000.snappy.parquet\n",
      "part-00003-1b8fcd71-6348-4510-a9dc-bdd7dcf82f2d-c000.snappy.parquet\n",
      "part-00004-1b8fcd71-6348-4510-a9dc-bdd7dcf82f2d-c000.snappy.parquet\n"
     ]
    },
    {
     "data": {
      "text/plain": [
       "[None, None, None, None, None]"
      ]
     },
     "execution_count": 2,
     "metadata": {},
     "output_type": "execute_result"
    }
   ],
   "source": [
    "data = Path(\"../data/\").glob(\"*.parquet\") \n",
    "data = list(data)\n",
    "\n",
    "[print(parquet.name) for parquet in data]"
   ]
  },
  {
   "cell_type": "code",
   "execution_count": 75,
   "metadata": {},
   "outputs": [],
   "source": [
    "df = pd.concat((pd.read_parquet(parquet, engine='fastparquet') for parquet in data))\n",
    "df = df.reset_index(drop=True)"
   ]
  },
  {
   "cell_type": "code",
   "execution_count": 76,
   "metadata": {},
   "outputs": [
    {
     "data": {
      "text/html": [
       "<div>\n",
       "<style scoped>\n",
       "    .dataframe tbody tr th:only-of-type {\n",
       "        vertical-align: middle;\n",
       "    }\n",
       "\n",
       "    .dataframe tbody tr th {\n",
       "        vertical-align: top;\n",
       "    }\n",
       "\n",
       "    .dataframe thead th {\n",
       "        text-align: right;\n",
       "    }\n",
       "</style>\n",
       "<table border=\"1\" class=\"dataframe\">\n",
       "  <thead>\n",
       "    <tr style=\"text-align: right;\">\n",
       "      <th></th>\n",
       "      <th>url</th>\n",
       "      <th>target</th>\n",
       "      <th>day</th>\n",
       "    </tr>\n",
       "  </thead>\n",
       "  <tbody>\n",
       "    <tr>\n",
       "      <th>0</th>\n",
       "      <td>https://www.cdiscount.com/bricolage/electricite/batterie-plomb-6v-4ah-ova51023e-pour-toplux/f-16614-ova2009927775303.html</td>\n",
       "      <td>[1831, 1751, 1192, 745, 1703]</td>\n",
       "      <td>4</td>\n",
       "    </tr>\n",
       "    <tr>\n",
       "      <th>1</th>\n",
       "      <td>https://www.mystalk.net/profile/vitoriafcorrea</td>\n",
       "      <td>[847, 978, 582, 1381, 529]</td>\n",
       "      <td>4</td>\n",
       "    </tr>\n",
       "    <tr>\n",
       "      <th>2</th>\n",
       "      <td>https://www.lequipe.fr/Tennis/TennisFicheJoueur1500000000003017.html</td>\n",
       "      <td>[20, 1077, 294]</td>\n",
       "      <td>4</td>\n",
       "    </tr>\n",
       "    <tr>\n",
       "      <th>3</th>\n",
       "      <td>http://m.jeuxvideo.com/forums/42-32625-60180057-1-0-1-0-la-guilde-fourmi-legionnaire-recrute.htm</td>\n",
       "      <td>[381, 935, 1343, 622, 933]</td>\n",
       "      <td>4</td>\n",
       "    </tr>\n",
       "    <tr>\n",
       "      <th>4</th>\n",
       "      <td>https://context.reverso.net/traduction/espagnol-francais/Para+ir</td>\n",
       "      <td>[692, 1265, 725, 1264, 1266]</td>\n",
       "      <td>4</td>\n",
       "    </tr>\n",
       "    <tr>\n",
       "      <th>5</th>\n",
       "      <td>https://www.nordeclair.fr/700287/article/2020-01-25/roubaix-les-panneaux-solaires-installes-sur-la-mediatheque-n-etaient-pas</td>\n",
       "      <td>[686, 501, 572, 1422, 5690]</td>\n",
       "      <td>4</td>\n",
       "    </tr>\n",
       "    <tr>\n",
       "      <th>6</th>\n",
       "      <td>https://www.750g.com/gateau-breton-de-mamie-scarlett-r70200.htm</td>\n",
       "      <td>[1513, 907, 1573, 1526, 1556]</td>\n",
       "      <td>4</td>\n",
       "    </tr>\n",
       "    <tr>\n",
       "      <th>7</th>\n",
       "      <td>http://www.jeuxvideo.com/forums/1-18505-21783-1-0-1-0-duree-de-vie.htm</td>\n",
       "      <td>[381, 925, 1343, 622, 1311]</td>\n",
       "      <td>4</td>\n",
       "    </tr>\n",
       "    <tr>\n",
       "      <th>8</th>\n",
       "      <td>https://www.lachainemeteo.com/meteo-france/ville-774900/previsions-meteo-tourtour-vendredi</td>\n",
       "      <td>[63, 5692, 1254, 1119]</td>\n",
       "      <td>4</td>\n",
       "    </tr>\n",
       "    <tr>\n",
       "      <th>9</th>\n",
       "      <td>https://fr.shopping.rakuten.com/s/lauren+st+john</td>\n",
       "      <td>[61, 353, 210, 531, 41]</td>\n",
       "      <td>4</td>\n",
       "    </tr>\n",
       "    <tr>\n",
       "      <th>10</th>\n",
       "      <td>http://m.jeuxvideo.com/forums/42-28979-59900574-1-0-1-0-la-configuration-pc.htm</td>\n",
       "      <td>[925, 1343, 41, 211, 930]</td>\n",
       "      <td>4</td>\n",
       "    </tr>\n",
       "    <tr>\n",
       "      <th>11</th>\n",
       "      <td>http://mamiehiou.over-blog.com/article-ne-expletif-quand-peut-on-l-employer-sans-que-je-ne-avant-que-je-ne-je-crains-que-tu-94163090.html</td>\n",
       "      <td>[509, 1265, 108, 474, 374]</td>\n",
       "      <td>4</td>\n",
       "    </tr>\n",
       "    <tr>\n",
       "      <th>12</th>\n",
       "      <td>https://dictionnaire.reverso.net/francais-synonymes/d%C3%A9faut+de+qualit%C3%A9</td>\n",
       "      <td>[692, 1265, 108, 474, 374]</td>\n",
       "      <td>4</td>\n",
       "    </tr>\n",
       "    <tr>\n",
       "      <th>13</th>\n",
       "      <td>https://www.mystalk.net/search/michaelaachr</td>\n",
       "      <td>[847, 978, 582, 1381, 529]</td>\n",
       "      <td>4</td>\n",
       "    </tr>\n",
       "    <tr>\n",
       "      <th>14</th>\n",
       "      <td>https://www.cuisineaz.com/diaporamas/recettes-de-galettes-des-rois-982/interne/1.aspx</td>\n",
       "      <td>[678, 1513, 907, 1573, 1526]</td>\n",
       "      <td>4</td>\n",
       "    </tr>\n",
       "  </tbody>\n",
       "</table>\n",
       "</div>"
      ],
      "text/plain": [
       "                                                                                                                                          url  \\\n",
       "0                   https://www.cdiscount.com/bricolage/electricite/batterie-plomb-6v-4ah-ova51023e-pour-toplux/f-16614-ova2009927775303.html   \n",
       "1                                                                                              https://www.mystalk.net/profile/vitoriafcorrea   \n",
       "2                                                                        https://www.lequipe.fr/Tennis/TennisFicheJoueur1500000000003017.html   \n",
       "3                                            http://m.jeuxvideo.com/forums/42-32625-60180057-1-0-1-0-la-guilde-fourmi-legionnaire-recrute.htm   \n",
       "4                                                                            https://context.reverso.net/traduction/espagnol-francais/Para+ir   \n",
       "5                https://www.nordeclair.fr/700287/article/2020-01-25/roubaix-les-panneaux-solaires-installes-sur-la-mediatheque-n-etaient-pas   \n",
       "6                                                                             https://www.750g.com/gateau-breton-de-mamie-scarlett-r70200.htm   \n",
       "7                                                                      http://www.jeuxvideo.com/forums/1-18505-21783-1-0-1-0-duree-de-vie.htm   \n",
       "8                                                  https://www.lachainemeteo.com/meteo-france/ville-774900/previsions-meteo-tourtour-vendredi   \n",
       "9                                                                                            https://fr.shopping.rakuten.com/s/lauren+st+john   \n",
       "10                                                            http://m.jeuxvideo.com/forums/42-28979-59900574-1-0-1-0-la-configuration-pc.htm   \n",
       "11  http://mamiehiou.over-blog.com/article-ne-expletif-quand-peut-on-l-employer-sans-que-je-ne-avant-que-je-ne-je-crains-que-tu-94163090.html   \n",
       "12                                                            https://dictionnaire.reverso.net/francais-synonymes/d%C3%A9faut+de+qualit%C3%A9   \n",
       "13                                                                                                https://www.mystalk.net/search/michaelaachr   \n",
       "14                                                      https://www.cuisineaz.com/diaporamas/recettes-de-galettes-des-rois-982/interne/1.aspx   \n",
       "\n",
       "                           target  day  \n",
       "0   [1831, 1751, 1192, 745, 1703]    4  \n",
       "1      [847, 978, 582, 1381, 529]    4  \n",
       "2                 [20, 1077, 294]    4  \n",
       "3      [381, 935, 1343, 622, 933]    4  \n",
       "4    [692, 1265, 725, 1264, 1266]    4  \n",
       "5     [686, 501, 572, 1422, 5690]    4  \n",
       "6   [1513, 907, 1573, 1526, 1556]    4  \n",
       "7     [381, 925, 1343, 622, 1311]    4  \n",
       "8          [63, 5692, 1254, 1119]    4  \n",
       "9         [61, 353, 210, 531, 41]    4  \n",
       "10      [925, 1343, 41, 211, 930]    4  \n",
       "11     [509, 1265, 108, 474, 374]    4  \n",
       "12     [692, 1265, 108, 474, 374]    4  \n",
       "13     [847, 978, 582, 1381, 529]    4  \n",
       "14   [678, 1513, 907, 1573, 1526]    4  "
      ]
     },
     "execution_count": 76,
     "metadata": {},
     "output_type": "execute_result"
    }
   ],
   "source": [
    "pd.set_option(\"max_colwidth\", None)\n",
    "df.head(15)"
   ]
  },
  {
   "cell_type": "code",
   "execution_count": 5,
   "metadata": {},
   "outputs": [
    {
     "name": "stdout",
     "output_type": "stream",
     "text": [
      "Nombre d'exemples = 67595\n",
      "Numbre de colonnes  = 3\n"
     ]
    },
    {
     "data": {
      "text/plain": [
       "(67595, 3)"
      ]
     },
     "execution_count": 5,
     "metadata": {},
     "output_type": "execute_result"
    }
   ],
   "source": [
    "print(\"Nombre d'exemples =\",df.shape[0])\n",
    "print(\"Numbre de colonnes  =\",df.shape[1])\n",
    "df.shape"
   ]
  },
  {
   "cell_type": "markdown",
   "metadata": {},
   "source": [
    "#### Données manquantes:"
   ]
  },
  {
   "cell_type": "code",
   "execution_count": 6,
   "metadata": {},
   "outputs": [
    {
     "data": {
      "text/plain": [
       "url       0\n",
       "target    0\n",
       "day       0\n",
       "dtype: int64"
      ]
     },
     "execution_count": 6,
     "metadata": {},
     "output_type": "execute_result"
    }
   ],
   "source": [
    "missing_values_check = df.isnull().sum()\n",
    "missing_values_check"
   ]
  },
  {
   "cell_type": "code",
   "execution_count": 7,
   "metadata": {},
   "outputs": [
    {
     "data": {
      "text/plain": [
       "67595"
      ]
     },
     "execution_count": 7,
     "metadata": {},
     "output_type": "execute_result"
    }
   ],
   "source": [
    "(df.url.values != '').sum()"
   ]
  },
  {
   "cell_type": "code",
   "execution_count": 73,
   "metadata": {},
   "outputs": [
    {
     "data": {
      "text/html": [
       "<div>\n",
       "<style scoped>\n",
       "    .dataframe tbody tr th:only-of-type {\n",
       "        vertical-align: middle;\n",
       "    }\n",
       "\n",
       "    .dataframe tbody tr th {\n",
       "        vertical-align: top;\n",
       "    }\n",
       "\n",
       "    .dataframe thead th {\n",
       "        text-align: right;\n",
       "    }\n",
       "</style>\n",
       "<table border=\"1\" class=\"dataframe\">\n",
       "  <thead>\n",
       "    <tr style=\"text-align: right;\">\n",
       "      <th></th>\n",
       "      <th>day</th>\n",
       "    </tr>\n",
       "  </thead>\n",
       "  <tbody>\n",
       "    <tr>\n",
       "      <th>count</th>\n",
       "      <td>67595.000000</td>\n",
       "    </tr>\n",
       "    <tr>\n",
       "      <th>mean</th>\n",
       "      <td>9.368089</td>\n",
       "    </tr>\n",
       "    <tr>\n",
       "      <th>std</th>\n",
       "      <td>5.134209</td>\n",
       "    </tr>\n",
       "    <tr>\n",
       "      <th>min</th>\n",
       "      <td>1.000000</td>\n",
       "    </tr>\n",
       "    <tr>\n",
       "      <th>25%</th>\n",
       "      <td>5.000000</td>\n",
       "    </tr>\n",
       "    <tr>\n",
       "      <th>50%</th>\n",
       "      <td>9.000000</td>\n",
       "    </tr>\n",
       "    <tr>\n",
       "      <th>75%</th>\n",
       "      <td>14.000000</td>\n",
       "    </tr>\n",
       "    <tr>\n",
       "      <th>max</th>\n",
       "      <td>19.000000</td>\n",
       "    </tr>\n",
       "  </tbody>\n",
       "</table>\n",
       "</div>"
      ],
      "text/plain": [
       "                day\n",
       "count  67595.000000\n",
       "mean       9.368089\n",
       "std        5.134209\n",
       "min        1.000000\n",
       "25%        5.000000\n",
       "50%        9.000000\n",
       "75%       14.000000\n",
       "max       19.000000"
      ]
     },
     "execution_count": 73,
     "metadata": {},
     "output_type": "execute_result"
    }
   ],
   "source": [
    "df.describe()"
   ]
  },
  {
   "cell_type": "markdown",
   "metadata": {},
   "source": [
    "### Coder les targets"
   ]
  },
  {
   "cell_type": "code",
   "execution_count": 8,
   "metadata": {},
   "outputs": [],
   "source": [
    "mlb = MultiLabelBinarizer()\n",
    "targets_encoded = pd.DataFrame(mlb.fit_transform(df.target),\n",
    "                   columns=mlb.classes_,\n",
    "                   index=df.target.index)"
   ]
  },
  {
   "cell_type": "code",
   "execution_count": 9,
   "metadata": {},
   "outputs": [
    {
     "data": {
      "text/html": [
       "<div>\n",
       "<style scoped>\n",
       "    .dataframe tbody tr th:only-of-type {\n",
       "        vertical-align: middle;\n",
       "    }\n",
       "\n",
       "    .dataframe tbody tr th {\n",
       "        vertical-align: top;\n",
       "    }\n",
       "\n",
       "    .dataframe thead th {\n",
       "        text-align: right;\n",
       "    }\n",
       "</style>\n",
       "<table border=\"1\" class=\"dataframe\">\n",
       "  <thead>\n",
       "    <tr style=\"text-align: right;\">\n",
       "      <th></th>\n",
       "      <th>100</th>\n",
       "      <th>1000</th>\n",
       "      <th>1001</th>\n",
       "      <th>1002</th>\n",
       "      <th>1003</th>\n",
       "      <th>1004</th>\n",
       "      <th>1005</th>\n",
       "      <th>1006</th>\n",
       "      <th>1007</th>\n",
       "      <th>1008</th>\n",
       "      <th>...</th>\n",
       "      <th>990</th>\n",
       "      <th>991</th>\n",
       "      <th>992</th>\n",
       "      <th>993</th>\n",
       "      <th>994</th>\n",
       "      <th>995</th>\n",
       "      <th>996</th>\n",
       "      <th>997</th>\n",
       "      <th>998</th>\n",
       "      <th>999</th>\n",
       "    </tr>\n",
       "  </thead>\n",
       "  <tbody>\n",
       "    <tr>\n",
       "      <th>0</th>\n",
       "      <td>0</td>\n",
       "      <td>0</td>\n",
       "      <td>0</td>\n",
       "      <td>0</td>\n",
       "      <td>0</td>\n",
       "      <td>0</td>\n",
       "      <td>0</td>\n",
       "      <td>0</td>\n",
       "      <td>0</td>\n",
       "      <td>0</td>\n",
       "      <td>...</td>\n",
       "      <td>0</td>\n",
       "      <td>0</td>\n",
       "      <td>0</td>\n",
       "      <td>0</td>\n",
       "      <td>0</td>\n",
       "      <td>0</td>\n",
       "      <td>0</td>\n",
       "      <td>0</td>\n",
       "      <td>0</td>\n",
       "      <td>0</td>\n",
       "    </tr>\n",
       "    <tr>\n",
       "      <th>1</th>\n",
       "      <td>0</td>\n",
       "      <td>0</td>\n",
       "      <td>0</td>\n",
       "      <td>0</td>\n",
       "      <td>0</td>\n",
       "      <td>0</td>\n",
       "      <td>0</td>\n",
       "      <td>0</td>\n",
       "      <td>0</td>\n",
       "      <td>0</td>\n",
       "      <td>...</td>\n",
       "      <td>0</td>\n",
       "      <td>0</td>\n",
       "      <td>0</td>\n",
       "      <td>0</td>\n",
       "      <td>0</td>\n",
       "      <td>0</td>\n",
       "      <td>0</td>\n",
       "      <td>0</td>\n",
       "      <td>0</td>\n",
       "      <td>0</td>\n",
       "    </tr>\n",
       "    <tr>\n",
       "      <th>2</th>\n",
       "      <td>0</td>\n",
       "      <td>0</td>\n",
       "      <td>0</td>\n",
       "      <td>0</td>\n",
       "      <td>0</td>\n",
       "      <td>0</td>\n",
       "      <td>0</td>\n",
       "      <td>0</td>\n",
       "      <td>0</td>\n",
       "      <td>0</td>\n",
       "      <td>...</td>\n",
       "      <td>0</td>\n",
       "      <td>0</td>\n",
       "      <td>0</td>\n",
       "      <td>0</td>\n",
       "      <td>0</td>\n",
       "      <td>0</td>\n",
       "      <td>0</td>\n",
       "      <td>0</td>\n",
       "      <td>0</td>\n",
       "      <td>0</td>\n",
       "    </tr>\n",
       "    <tr>\n",
       "      <th>3</th>\n",
       "      <td>0</td>\n",
       "      <td>0</td>\n",
       "      <td>0</td>\n",
       "      <td>0</td>\n",
       "      <td>0</td>\n",
       "      <td>0</td>\n",
       "      <td>0</td>\n",
       "      <td>0</td>\n",
       "      <td>0</td>\n",
       "      <td>0</td>\n",
       "      <td>...</td>\n",
       "      <td>0</td>\n",
       "      <td>0</td>\n",
       "      <td>0</td>\n",
       "      <td>0</td>\n",
       "      <td>0</td>\n",
       "      <td>0</td>\n",
       "      <td>0</td>\n",
       "      <td>0</td>\n",
       "      <td>0</td>\n",
       "      <td>0</td>\n",
       "    </tr>\n",
       "    <tr>\n",
       "      <th>4</th>\n",
       "      <td>0</td>\n",
       "      <td>0</td>\n",
       "      <td>0</td>\n",
       "      <td>0</td>\n",
       "      <td>0</td>\n",
       "      <td>0</td>\n",
       "      <td>0</td>\n",
       "      <td>0</td>\n",
       "      <td>0</td>\n",
       "      <td>0</td>\n",
       "      <td>...</td>\n",
       "      <td>0</td>\n",
       "      <td>0</td>\n",
       "      <td>0</td>\n",
       "      <td>0</td>\n",
       "      <td>0</td>\n",
       "      <td>0</td>\n",
       "      <td>0</td>\n",
       "      <td>0</td>\n",
       "      <td>0</td>\n",
       "      <td>0</td>\n",
       "    </tr>\n",
       "    <tr>\n",
       "      <th>...</th>\n",
       "      <td>...</td>\n",
       "      <td>...</td>\n",
       "      <td>...</td>\n",
       "      <td>...</td>\n",
       "      <td>...</td>\n",
       "      <td>...</td>\n",
       "      <td>...</td>\n",
       "      <td>...</td>\n",
       "      <td>...</td>\n",
       "      <td>...</td>\n",
       "      <td>...</td>\n",
       "      <td>...</td>\n",
       "      <td>...</td>\n",
       "      <td>...</td>\n",
       "      <td>...</td>\n",
       "      <td>...</td>\n",
       "      <td>...</td>\n",
       "      <td>...</td>\n",
       "      <td>...</td>\n",
       "      <td>...</td>\n",
       "      <td>...</td>\n",
       "    </tr>\n",
       "    <tr>\n",
       "      <th>13519</th>\n",
       "      <td>0</td>\n",
       "      <td>0</td>\n",
       "      <td>0</td>\n",
       "      <td>0</td>\n",
       "      <td>0</td>\n",
       "      <td>0</td>\n",
       "      <td>0</td>\n",
       "      <td>0</td>\n",
       "      <td>0</td>\n",
       "      <td>0</td>\n",
       "      <td>...</td>\n",
       "      <td>0</td>\n",
       "      <td>0</td>\n",
       "      <td>0</td>\n",
       "      <td>0</td>\n",
       "      <td>0</td>\n",
       "      <td>0</td>\n",
       "      <td>0</td>\n",
       "      <td>0</td>\n",
       "      <td>0</td>\n",
       "      <td>0</td>\n",
       "    </tr>\n",
       "    <tr>\n",
       "      <th>13520</th>\n",
       "      <td>0</td>\n",
       "      <td>0</td>\n",
       "      <td>0</td>\n",
       "      <td>0</td>\n",
       "      <td>0</td>\n",
       "      <td>0</td>\n",
       "      <td>0</td>\n",
       "      <td>0</td>\n",
       "      <td>0</td>\n",
       "      <td>0</td>\n",
       "      <td>...</td>\n",
       "      <td>0</td>\n",
       "      <td>0</td>\n",
       "      <td>0</td>\n",
       "      <td>0</td>\n",
       "      <td>0</td>\n",
       "      <td>0</td>\n",
       "      <td>0</td>\n",
       "      <td>0</td>\n",
       "      <td>0</td>\n",
       "      <td>0</td>\n",
       "    </tr>\n",
       "    <tr>\n",
       "      <th>13521</th>\n",
       "      <td>0</td>\n",
       "      <td>0</td>\n",
       "      <td>0</td>\n",
       "      <td>0</td>\n",
       "      <td>0</td>\n",
       "      <td>0</td>\n",
       "      <td>0</td>\n",
       "      <td>0</td>\n",
       "      <td>0</td>\n",
       "      <td>0</td>\n",
       "      <td>...</td>\n",
       "      <td>0</td>\n",
       "      <td>0</td>\n",
       "      <td>0</td>\n",
       "      <td>0</td>\n",
       "      <td>0</td>\n",
       "      <td>0</td>\n",
       "      <td>0</td>\n",
       "      <td>0</td>\n",
       "      <td>0</td>\n",
       "      <td>0</td>\n",
       "    </tr>\n",
       "    <tr>\n",
       "      <th>13522</th>\n",
       "      <td>0</td>\n",
       "      <td>0</td>\n",
       "      <td>0</td>\n",
       "      <td>0</td>\n",
       "      <td>0</td>\n",
       "      <td>0</td>\n",
       "      <td>0</td>\n",
       "      <td>0</td>\n",
       "      <td>0</td>\n",
       "      <td>0</td>\n",
       "      <td>...</td>\n",
       "      <td>0</td>\n",
       "      <td>0</td>\n",
       "      <td>0</td>\n",
       "      <td>0</td>\n",
       "      <td>0</td>\n",
       "      <td>0</td>\n",
       "      <td>0</td>\n",
       "      <td>0</td>\n",
       "      <td>0</td>\n",
       "      <td>0</td>\n",
       "    </tr>\n",
       "    <tr>\n",
       "      <th>13523</th>\n",
       "      <td>0</td>\n",
       "      <td>0</td>\n",
       "      <td>0</td>\n",
       "      <td>0</td>\n",
       "      <td>0</td>\n",
       "      <td>0</td>\n",
       "      <td>0</td>\n",
       "      <td>0</td>\n",
       "      <td>0</td>\n",
       "      <td>0</td>\n",
       "      <td>...</td>\n",
       "      <td>0</td>\n",
       "      <td>0</td>\n",
       "      <td>0</td>\n",
       "      <td>0</td>\n",
       "      <td>0</td>\n",
       "      <td>0</td>\n",
       "      <td>0</td>\n",
       "      <td>0</td>\n",
       "      <td>0</td>\n",
       "      <td>0</td>\n",
       "    </tr>\n",
       "  </tbody>\n",
       "</table>\n",
       "<p>67595 rows × 1903 columns</p>\n",
       "</div>"
      ],
      "text/plain": [
       "       100  1000  1001  1002  1003  1004  1005  1006  1007  1008  ...  990  \\\n",
       "0        0     0     0     0     0     0     0     0     0     0  ...    0   \n",
       "1        0     0     0     0     0     0     0     0     0     0  ...    0   \n",
       "2        0     0     0     0     0     0     0     0     0     0  ...    0   \n",
       "3        0     0     0     0     0     0     0     0     0     0  ...    0   \n",
       "4        0     0     0     0     0     0     0     0     0     0  ...    0   \n",
       "...    ...   ...   ...   ...   ...   ...   ...   ...   ...   ...  ...  ...   \n",
       "13519    0     0     0     0     0     0     0     0     0     0  ...    0   \n",
       "13520    0     0     0     0     0     0     0     0     0     0  ...    0   \n",
       "13521    0     0     0     0     0     0     0     0     0     0  ...    0   \n",
       "13522    0     0     0     0     0     0     0     0     0     0  ...    0   \n",
       "13523    0     0     0     0     0     0     0     0     0     0  ...    0   \n",
       "\n",
       "       991  992  993  994  995  996  997  998  999  \n",
       "0        0    0    0    0    0    0    0    0    0  \n",
       "1        0    0    0    0    0    0    0    0    0  \n",
       "2        0    0    0    0    0    0    0    0    0  \n",
       "3        0    0    0    0    0    0    0    0    0  \n",
       "4        0    0    0    0    0    0    0    0    0  \n",
       "...    ...  ...  ...  ...  ...  ...  ...  ...  ...  \n",
       "13519    0    0    0    0    0    0    0    0    0  \n",
       "13520    0    0    0    0    0    0    0    0    0  \n",
       "13521    0    0    0    0    0    0    0    0    0  \n",
       "13522    0    0    0    0    0    0    0    0    0  \n",
       "13523    0    0    0    0    0    0    0    0    0  \n",
       "\n",
       "[67595 rows x 1903 columns]"
      ]
     },
     "execution_count": 9,
     "metadata": {},
     "output_type": "execute_result"
    }
   ],
   "source": [
    "targets_encoded"
   ]
  },
  {
   "cell_type": "code",
   "execution_count": 10,
   "metadata": {},
   "outputs": [
    {
     "name": "stdout",
     "output_type": "stream",
     "text": [
      "Nombre d'exemples  67595\n",
      "Nombre de colonnes:  1903\n"
     ]
    }
   ],
   "source": [
    "print(\"Nombre d'exemples \",len(targets_encoded)) \n",
    "print(\"Nombre de colonnes: \",len(targets_encoded.columns))"
   ]
  },
  {
   "cell_type": "code",
   "execution_count": 11,
   "metadata": {},
   "outputs": [],
   "source": [
    "targets_decoded = mlb.inverse_transform(targets_encoded.values)\n",
    "# targets_decoded"
   ]
  },
  {
   "cell_type": "code",
   "execution_count": 12,
   "metadata": {},
   "outputs": [
    {
     "data": {
      "text/html": [
       "<div>\n",
       "<style scoped>\n",
       "    .dataframe tbody tr th:only-of-type {\n",
       "        vertical-align: middle;\n",
       "    }\n",
       "\n",
       "    .dataframe tbody tr th {\n",
       "        vertical-align: top;\n",
       "    }\n",
       "\n",
       "    .dataframe thead th {\n",
       "        text-align: right;\n",
       "    }\n",
       "</style>\n",
       "<table border=\"1\" class=\"dataframe\">\n",
       "  <thead>\n",
       "    <tr style=\"text-align: right;\">\n",
       "      <th></th>\n",
       "      <th>url</th>\n",
       "      <th>target</th>\n",
       "      <th>day</th>\n",
       "      <th>100</th>\n",
       "      <th>1000</th>\n",
       "      <th>1001</th>\n",
       "      <th>1002</th>\n",
       "      <th>1003</th>\n",
       "      <th>1004</th>\n",
       "      <th>1005</th>\n",
       "      <th>...</th>\n",
       "      <th>990</th>\n",
       "      <th>991</th>\n",
       "      <th>992</th>\n",
       "      <th>993</th>\n",
       "      <th>994</th>\n",
       "      <th>995</th>\n",
       "      <th>996</th>\n",
       "      <th>997</th>\n",
       "      <th>998</th>\n",
       "      <th>999</th>\n",
       "    </tr>\n",
       "  </thead>\n",
       "  <tbody>\n",
       "    <tr>\n",
       "      <th>0</th>\n",
       "      <td>https://www.cdiscount.com/bricolage/electricite/batterie-plomb-6v-4ah-ova51023e-pour-toplux/f-16614-ova2009927775303.html</td>\n",
       "      <td>[1831, 1751, 1192, 745, 1703]</td>\n",
       "      <td>4</td>\n",
       "      <td>0</td>\n",
       "      <td>0</td>\n",
       "      <td>0</td>\n",
       "      <td>0</td>\n",
       "      <td>0</td>\n",
       "      <td>0</td>\n",
       "      <td>0</td>\n",
       "      <td>...</td>\n",
       "      <td>0</td>\n",
       "      <td>0</td>\n",
       "      <td>0</td>\n",
       "      <td>0</td>\n",
       "      <td>0</td>\n",
       "      <td>0</td>\n",
       "      <td>0</td>\n",
       "      <td>0</td>\n",
       "      <td>0</td>\n",
       "      <td>0</td>\n",
       "    </tr>\n",
       "    <tr>\n",
       "      <th>1</th>\n",
       "      <td>https://www.mystalk.net/profile/vitoriafcorrea</td>\n",
       "      <td>[847, 978, 582, 1381, 529]</td>\n",
       "      <td>4</td>\n",
       "      <td>0</td>\n",
       "      <td>0</td>\n",
       "      <td>0</td>\n",
       "      <td>0</td>\n",
       "      <td>0</td>\n",
       "      <td>0</td>\n",
       "      <td>0</td>\n",
       "      <td>...</td>\n",
       "      <td>0</td>\n",
       "      <td>0</td>\n",
       "      <td>0</td>\n",
       "      <td>0</td>\n",
       "      <td>0</td>\n",
       "      <td>0</td>\n",
       "      <td>0</td>\n",
       "      <td>0</td>\n",
       "      <td>0</td>\n",
       "      <td>0</td>\n",
       "    </tr>\n",
       "    <tr>\n",
       "      <th>2</th>\n",
       "      <td>https://www.lequipe.fr/Tennis/TennisFicheJoueur1500000000003017.html</td>\n",
       "      <td>[20, 1077, 294]</td>\n",
       "      <td>4</td>\n",
       "      <td>0</td>\n",
       "      <td>0</td>\n",
       "      <td>0</td>\n",
       "      <td>0</td>\n",
       "      <td>0</td>\n",
       "      <td>0</td>\n",
       "      <td>0</td>\n",
       "      <td>...</td>\n",
       "      <td>0</td>\n",
       "      <td>0</td>\n",
       "      <td>0</td>\n",
       "      <td>0</td>\n",
       "      <td>0</td>\n",
       "      <td>0</td>\n",
       "      <td>0</td>\n",
       "      <td>0</td>\n",
       "      <td>0</td>\n",
       "      <td>0</td>\n",
       "    </tr>\n",
       "    <tr>\n",
       "      <th>3</th>\n",
       "      <td>http://m.jeuxvideo.com/forums/42-32625-60180057-1-0-1-0-la-guilde-fourmi-legionnaire-recrute.htm</td>\n",
       "      <td>[381, 935, 1343, 622, 933]</td>\n",
       "      <td>4</td>\n",
       "      <td>0</td>\n",
       "      <td>0</td>\n",
       "      <td>0</td>\n",
       "      <td>0</td>\n",
       "      <td>0</td>\n",
       "      <td>0</td>\n",
       "      <td>0</td>\n",
       "      <td>...</td>\n",
       "      <td>0</td>\n",
       "      <td>0</td>\n",
       "      <td>0</td>\n",
       "      <td>0</td>\n",
       "      <td>0</td>\n",
       "      <td>0</td>\n",
       "      <td>0</td>\n",
       "      <td>0</td>\n",
       "      <td>0</td>\n",
       "      <td>0</td>\n",
       "    </tr>\n",
       "    <tr>\n",
       "      <th>4</th>\n",
       "      <td>https://context.reverso.net/traduction/espagnol-francais/Para+ir</td>\n",
       "      <td>[692, 1265, 725, 1264, 1266]</td>\n",
       "      <td>4</td>\n",
       "      <td>0</td>\n",
       "      <td>0</td>\n",
       "      <td>0</td>\n",
       "      <td>0</td>\n",
       "      <td>0</td>\n",
       "      <td>0</td>\n",
       "      <td>0</td>\n",
       "      <td>...</td>\n",
       "      <td>0</td>\n",
       "      <td>0</td>\n",
       "      <td>0</td>\n",
       "      <td>0</td>\n",
       "      <td>0</td>\n",
       "      <td>0</td>\n",
       "      <td>0</td>\n",
       "      <td>0</td>\n",
       "      <td>0</td>\n",
       "      <td>0</td>\n",
       "    </tr>\n",
       "  </tbody>\n",
       "</table>\n",
       "<p>5 rows × 1906 columns</p>\n",
       "</div>"
      ],
      "text/plain": [
       "                                                                                                                         url  \\\n",
       "0  https://www.cdiscount.com/bricolage/electricite/batterie-plomb-6v-4ah-ova51023e-pour-toplux/f-16614-ova2009927775303.html   \n",
       "1                                                                             https://www.mystalk.net/profile/vitoriafcorrea   \n",
       "2                                                       https://www.lequipe.fr/Tennis/TennisFicheJoueur1500000000003017.html   \n",
       "3                           http://m.jeuxvideo.com/forums/42-32625-60180057-1-0-1-0-la-guilde-fourmi-legionnaire-recrute.htm   \n",
       "4                                                           https://context.reverso.net/traduction/espagnol-francais/Para+ir   \n",
       "\n",
       "                          target  day  100  1000  1001  1002  1003  1004  \\\n",
       "0  [1831, 1751, 1192, 745, 1703]    4    0     0     0     0     0     0   \n",
       "1     [847, 978, 582, 1381, 529]    4    0     0     0     0     0     0   \n",
       "2                [20, 1077, 294]    4    0     0     0     0     0     0   \n",
       "3     [381, 935, 1343, 622, 933]    4    0     0     0     0     0     0   \n",
       "4   [692, 1265, 725, 1264, 1266]    4    0     0     0     0     0     0   \n",
       "\n",
       "   1005  ...  990  991  992  993  994  995  996  997  998  999  \n",
       "0     0  ...    0    0    0    0    0    0    0    0    0    0  \n",
       "1     0  ...    0    0    0    0    0    0    0    0    0    0  \n",
       "2     0  ...    0    0    0    0    0    0    0    0    0    0  \n",
       "3     0  ...    0    0    0    0    0    0    0    0    0    0  \n",
       "4     0  ...    0    0    0    0    0    0    0    0    0    0  \n",
       "\n",
       "[5 rows x 1906 columns]"
      ]
     },
     "execution_count": 12,
     "metadata": {},
     "output_type": "execute_result"
    }
   ],
   "source": [
    "df_targets = pd.concat([df, targets_encoded], axis=1)\n",
    "df_targets.head(5)"
   ]
  },
  {
   "cell_type": "markdown",
   "metadata": {},
   "source": [
    "### Nombre de jours"
   ]
  },
  {
   "cell_type": "code",
   "execution_count": 17,
   "metadata": {},
   "outputs": [
    {
     "data": {
      "text/plain": [
       "Text(0, 0.5, 'Total Number Of Days')"
      ]
     },
     "execution_count": 17,
     "metadata": {},
     "output_type": "execute_result"
    },
    {
     "data": {
      "image/png": "[encoded data removed]",
      "text/plain": [
       "<Figure size 864x360 with 1 Axes>"
      ]
     },
     "metadata": {},
     "output_type": "display_data"
    }
   ],
   "source": [
    "df_targets.day.value_counts().plot(figsize=(12,5),kind='bar',color='orange')\n",
    "plt.xlabel('day')\n",
    "plt.ylabel('Total Number Of Days')"
   ]
  },
  {
   "cell_type": "markdown",
   "metadata": {},
   "source": [
    "### Combinaison de target par jour"
   ]
  },
  {
   "cell_type": "code",
   "execution_count": 187,
   "metadata": {},
   "outputs": [
    {
     "data": {
      "text/plain": [
       "target                         day\n",
       "(100, 102, 191, 1033, 299)     5      1\n",
       "(100, 1078, 549, 1271, 569)    6      1\n",
       "(100, 1122, 1270, 1274, 1717)  4      1\n",
       "(100, 1122, 1526, 1270, 1717)  17     1\n",
       "(100, 1122, 191, 1270, 1717)   2      1\n",
       "                                     ..\n",
       "(997, 993, 992, 984, 983)      12     1\n",
       "                               15     1\n",
       "                               17     1\n",
       "(997, 993, 992, 987, 365)      3      1\n",
       "(999, 180, 1595, 554)          12     1\n",
       "Length: 48851, dtype: int64"
      ]
     },
     "execution_count": 187,
     "metadata": {},
     "output_type": "execute_result"
    }
   ],
   "source": [
    "test = df \n",
    "test[\"target\"]= df[\"target\"].map(tuple)\n",
    "df.groupby(['target', 'day']).size()"
   ]
  },
  {
   "cell_type": "code",
   "execution_count": 189,
   "metadata": {},
   "outputs": [
    {
     "name": "stdout",
     "output_type": "stream",
     "text": [
      "293\n"
     ]
    }
   ],
   "source": [
    "a = ['1867', '1722', '1367', '1721', '1370']\n",
    "test = df[[set(a) == set(x) for x in df['target']]]\n",
    "print(len(test))"
   ]
  },
  {
   "cell_type": "code",
   "execution_count": 190,
   "metadata": {},
   "outputs": [
    {
     "data": {
      "text/html": [
       "<div>\n",
       "<style scoped>\n",
       "    .dataframe tbody tr th:only-of-type {\n",
       "        vertical-align: middle;\n",
       "    }\n",
       "\n",
       "    .dataframe tbody tr th {\n",
       "        vertical-align: top;\n",
       "    }\n",
       "\n",
       "    .dataframe thead th {\n",
       "        text-align: right;\n",
       "    }\n",
       "</style>\n",
       "<table border=\"1\" class=\"dataframe\">\n",
       "  <thead>\n",
       "    <tr style=\"text-align: right;\">\n",
       "      <th></th>\n",
       "      <th>url</th>\n",
       "      <th>target</th>\n",
       "      <th>day</th>\n",
       "    </tr>\n",
       "  </thead>\n",
       "  <tbody>\n",
       "    <tr>\n",
       "      <th>224</th>\n",
       "      <td>https://www.conforama.fr/special/boutique/bout...</td>\n",
       "      <td>(1867, 1722, 1367, 1721, 1370)</td>\n",
       "      <td>4</td>\n",
       "    </tr>\n",
       "    <tr>\n",
       "      <th>575</th>\n",
       "      <td>https://www.cdiscount.com/search/10/chauffeuse...</td>\n",
       "      <td>(1867, 1722, 1367, 1721, 1370)</td>\n",
       "      <td>8</td>\n",
       "    </tr>\n",
       "    <tr>\n",
       "      <th>576</th>\n",
       "      <td>https://www.cdiscount.com/maison/fauteuil-pouf...</td>\n",
       "      <td>(1867, 1722, 1367, 1721, 1370)</td>\n",
       "      <td>8</td>\n",
       "    </tr>\n",
       "    <tr>\n",
       "      <th>603</th>\n",
       "      <td>https://www.cdiscount.com/maison/canape-canape...</td>\n",
       "      <td>(1867, 1722, 1367, 1721, 1370)</td>\n",
       "      <td>8</td>\n",
       "    </tr>\n",
       "    <tr>\n",
       "      <th>841</th>\n",
       "      <td>https://www.cdiscount.com/search/10/chaises+sc...</td>\n",
       "      <td>(1867, 1722, 1367, 1721, 1370)</td>\n",
       "      <td>15</td>\n",
       "    </tr>\n",
       "    <tr>\n",
       "      <th>...</th>\n",
       "      <td>...</td>\n",
       "      <td>...</td>\n",
       "      <td>...</td>\n",
       "    </tr>\n",
       "    <tr>\n",
       "      <th>12897</th>\n",
       "      <td>https://www.cdiscount.com/maison/r-canape+conv...</td>\n",
       "      <td>(1867, 1722, 1367, 1721, 1370)</td>\n",
       "      <td>17</td>\n",
       "    </tr>\n",
       "    <tr>\n",
       "      <th>12971</th>\n",
       "      <td>https://www.cdiscount.com/maison/canape-canape...</td>\n",
       "      <td>(1867, 1722, 1367, 1721, 1370)</td>\n",
       "      <td>17</td>\n",
       "    </tr>\n",
       "    <tr>\n",
       "      <th>13003</th>\n",
       "      <td>https://www.cdiscount.com/maison/fauteuil-pouf...</td>\n",
       "      <td>(1867, 1722, 1367, 1721, 1370)</td>\n",
       "      <td>17</td>\n",
       "    </tr>\n",
       "    <tr>\n",
       "      <th>13112</th>\n",
       "      <td>https://www.cdiscount.com/maison/fauteuil-pouf...</td>\n",
       "      <td>(1867, 1722, 1367, 1721, 1370)</td>\n",
       "      <td>17</td>\n",
       "    </tr>\n",
       "    <tr>\n",
       "      <th>13207</th>\n",
       "      <td>https://www.conforama.fr/special/canape-salon-...</td>\n",
       "      <td>(1867, 1722, 1367, 1721, 1370)</td>\n",
       "      <td>2</td>\n",
       "    </tr>\n",
       "  </tbody>\n",
       "</table>\n",
       "<p>293 rows × 3 columns</p>\n",
       "</div>"
      ],
      "text/plain": [
       "                                                     url  \\\n",
       "224    https://www.conforama.fr/special/boutique/bout...   \n",
       "575    https://www.cdiscount.com/search/10/chauffeuse...   \n",
       "576    https://www.cdiscount.com/maison/fauteuil-pouf...   \n",
       "603    https://www.cdiscount.com/maison/canape-canape...   \n",
       "841    https://www.cdiscount.com/search/10/chaises+sc...   \n",
       "...                                                  ...   \n",
       "12897  https://www.cdiscount.com/maison/r-canape+conv...   \n",
       "12971  https://www.cdiscount.com/maison/canape-canape...   \n",
       "13003  https://www.cdiscount.com/maison/fauteuil-pouf...   \n",
       "13112  https://www.cdiscount.com/maison/fauteuil-pouf...   \n",
       "13207  https://www.conforama.fr/special/canape-salon-...   \n",
       "\n",
       "                               target  day  \n",
       "224    (1867, 1722, 1367, 1721, 1370)    4  \n",
       "575    (1867, 1722, 1367, 1721, 1370)    8  \n",
       "576    (1867, 1722, 1367, 1721, 1370)    8  \n",
       "603    (1867, 1722, 1367, 1721, 1370)    8  \n",
       "841    (1867, 1722, 1367, 1721, 1370)   15  \n",
       "...                               ...  ...  \n",
       "12897  (1867, 1722, 1367, 1721, 1370)   17  \n",
       "12971  (1867, 1722, 1367, 1721, 1370)   17  \n",
       "13003  (1867, 1722, 1367, 1721, 1370)   17  \n",
       "13112  (1867, 1722, 1367, 1721, 1370)   17  \n",
       "13207  (1867, 1722, 1367, 1721, 1370)    2  \n",
       "\n",
       "[293 rows x 3 columns]"
      ]
     },
     "execution_count": 190,
     "metadata": {},
     "output_type": "execute_result"
    }
   ],
   "source": [
    "test "
   ]
  },
  {
   "cell_type": "code",
   "execution_count": 174,
   "metadata": {},
   "outputs": [
    {
     "data": {
      "text/plain": [
       "4     22\n",
       "17    22\n",
       "9     21\n",
       "3     20\n",
       "12    20\n",
       "14    17\n",
       "11    17\n",
       "2     17\n",
       "15    16\n",
       "1     16\n",
       "5     16\n",
       "6     16\n",
       "18    15\n",
       "13    15\n",
       "10    13\n",
       "8     11\n",
       "7     10\n",
       "16     9\n",
       "Name: day, dtype: int64"
      ]
     },
     "execution_count": 174,
     "metadata": {},
     "output_type": "execute_result"
    }
   ],
   "source": [
    "test.day.value_counts()"
   ]
  },
  {
   "cell_type": "markdown",
   "metadata": {},
   "source": [
    "## target par jour"
   ]
  },
  {
   "cell_type": "code",
   "execution_count": 22,
   "metadata": {},
   "outputs": [
    {
     "name": "stdout",
     "output_type": "stream",
     "text": [
      "day 1  max target:  target    692\n",
      "occ       199\n",
      "Name: 501, dtype: int64\n",
      "day 2  max target:  target    692\n",
      "occ       225\n",
      "Name: 501, dtype: int64\n",
      "day 3  max target:  target    692\n",
      "occ       285\n",
      "Name: 501, dtype: int64\n",
      "day 4  max target:  target    692\n",
      "occ       295\n",
      "Name: 501, dtype: int64\n",
      "day 5  max target:  target    692\n",
      "occ       279\n",
      "Name: 501, dtype: int64\n",
      "day 6  max target:  target    692\n",
      "occ       283\n",
      "Name: 501, dtype: int64\n",
      "day 7  max target:  target    692\n",
      "occ       260\n",
      "Name: 501, dtype: int64\n",
      "day 8  max target:  target    184\n",
      "occ       204\n",
      "Name: 108, dtype: int64\n",
      "day 9  max target:  target    692\n",
      "occ       254\n",
      "Name: 501, dtype: int64\n",
      "day 10  max target:  target    692\n",
      "occ       275\n",
      "Name: 501, dtype: int64\n",
      "day 11  max target:  target    692\n",
      "occ       244\n",
      "Name: 501, dtype: int64\n",
      "day 12  max target:  target    692\n",
      "occ       268\n",
      "Name: 501, dtype: int64\n",
      "day 13  max target:  target    692\n",
      "occ       234\n",
      "Name: 501, dtype: int64\n",
      "day 14  max target:  target    692\n",
      "occ       211\n",
      "Name: 501, dtype: int64\n",
      "day 15  max target:  target    184\n",
      "occ       198\n",
      "Name: 108, dtype: int64\n",
      "day 16  max target:  target    184\n",
      "occ       199\n",
      "Name: 108, dtype: int64\n",
      "day 17  max target:  target    692\n",
      "occ       230\n",
      "Name: 501, dtype: int64\n",
      "day 18  max target:  target    184\n",
      "occ       191\n",
      "Name: 108, dtype: int64\n",
      "day 19  max target:  target    1343\n",
      "occ         12\n",
      "Name: 1066, dtype: int64\n"
     ]
    },
    {
     "data": {
      "image/png": "[encoded data removed]",
      "text/plain": [
       "<Figure size 1080x576 with 1 Axes>"
      ]
     },
     "metadata": {},
     "output_type": "display_data"
    },
    {
     "data": {
      "image/png": "[encoded data removed]",
      "text/plain": [
       "<Figure size 1080x576 with 1 Axes>"
      ]
     },
     "metadata": {},
     "output_type": "display_data"
    },
    {
     "data": {
      "image/png": "[encoded data removed]",
      "text/plain": [
       "<Figure size 1080x576 with 1 Axes>"
      ]
     },
     "metadata": {},
     "output_type": "display_data"
    },
    {
     "data": {
      "image/png": "[encoded data removed]",
      "text/plain": [
       "<Figure size 1080x576 with 1 Axes>"
      ]
     },
     "metadata": {},
     "output_type": "display_data"
    },
    {
     "data": {
      "image/png": "[encoded data removed]",
      "text/plain": [
       "<Figure size 1080x576 with 1 Axes>"
      ]
     },
     "metadata": {},
     "output_type": "display_data"
    },
    {
     "data": {
      "image/png": "[encoded data removed]",
      "text/plain": [
       "<Figure size 1080x576 with 1 Axes>"
      ]
     },
     "metadata": {},
     "output_type": "display_data"
    },
    {
     "data": {
      "image/png": "[encoded data removed]",
      "text/plain": [
       "<Figure size 1080x576 with 1 Axes>"
      ]
     },
     "metadata": {},
     "output_type": "display_data"
    },
    {
     "data": {
      "image/png": "[encoded data removed]",
      "text/plain": [
       "<Figure size 1080x576 with 1 Axes>"
      ]
     },
     "metadata": {},
     "output_type": "display_data"
    },
    {
     "data": {
      "image/png": "[encoded data removed]",
      "text/plain": [
       "<Figure size 1080x576 with 1 Axes>"
      ]
     },
     "metadata": {},
     "output_type": "display_data"
    },
    {
     "data": {
      "image/png": "[encoded data removed]",
      "text/plain": [
       "<Figure size 1080x576 with 1 Axes>"
      ]
     },
     "metadata": {},
     "output_type": "display_data"
    },
    {
     "data": {
      "image/png": "[encoded data removed]",
      "text/plain": [
       "<Figure size 1080x576 with 1 Axes>"
      ]
     },
     "metadata": {},
     "output_type": "display_data"
    },
    {
     "data": {
      "image/png": "[encoded data removed]",
      "text/plain": [
       "<Figure size 1080x576 with 1 Axes>"
      ]
     },
     "metadata": {},
     "output_type": "display_data"
    },
    {
     "data": {
      "image/png": "[encoded data removed]",
      "text/plain": [
       "<Figure size 1080x576 with 1 Axes>"
      ]
     },
     "metadata": {},
     "output_type": "display_data"
    },
    {
     "data": {
      "image/png": "[encoded data removed]",
      "text/plain": [
       "<Figure size 1080x576 with 1 Axes>"
      ]
     },
     "metadata": {},
     "output_type": "display_data"
    },
    {
     "data": {
      "image/png": "[encoded data removed]",
      "text/plain": [
       "<Figure size 1080x576 with 1 Axes>"
      ]
     },
     "metadata": {},
     "output_type": "display_data"
    },
    {
     "data": {
      "image/png": "[encoded data removed]",
      "text/plain": [
       "<Figure size 1080x576 with 1 Axes>"
      ]
     },
     "metadata": {},
     "output_type": "display_data"
    },
    {
     "data": {
      "image/png": "[encoded data removed]",
      "text/plain": [
       "<Figure size 1080x576 with 1 Axes>"
      ]
     },
     "metadata": {},
     "output_type": "display_data"
    },
    {
     "data": {
      "image/png": "[encoded data removed]",
      "text/plain": [
       "<Figure size 1080x576 with 1 Axes>"
      ]
     },
     "metadata": {},
     "output_type": "display_data"
    },
    {
     "data": {
      "image/png": "[encoded data removed]",
      "text/plain": [
       "<Figure size 1080x576 with 1 Axes>"
      ]
     },
     "metadata": {},
     "output_type": "display_data"
    }
   ],
   "source": [
    "for i in range(1,20):\n",
    "    \n",
    "    subset = df_targets[df_targets.day==i]\n",
    "\n",
    "    counts = []\n",
    "    for target in targets:\n",
    "        counts.append((target, subset[str(target)].sum()))\n",
    "    subset_stats = pd.DataFrame(counts, columns=['target', 'occ'])\n",
    "    print(\"day\", i,\" max target: \" ,subset_stats.loc[subset_stats['occ'].idxmax()])\n",
    "\n",
    "    sns.set(font_scale = 1)\n",
    "    plt.figure(figsize=(15,8))\n",
    "\n",
    "    x = subset_stats.target\n",
    "    y = subset_stats.occ\n",
    "\n",
    "    plt.xlabel('targets')\n",
    "    plt.ylabel('occurences')\n",
    "\n",
    "\n",
    "    plt.subplot(7, 3, i)\n",
    "    plt.title(\"day: \"+str(i), fontsize=20)\n",
    "    plt.plot(x, y)\n",
    "\n",
    "plt.show()"
   ]
  },
  {
   "cell_type": "markdown",
   "metadata": {},
   "source": [
    "#### Dans la partie 3, nous entrainerons nos modèles sur nos données puis nous essayerons d'améliorer les résultats avec du feature enginieering et en effectuant une gridsearch pour trouver les bons hyperparams"
   ]
  },
  {
   "cell_type": "code",
   "execution_count": null,
   "metadata": {},
   "outputs": [],
   "source": []
  }
 ],
 "metadata": {
  "kernelspec": {
   "display_name": "Python 3",
   "language": "python",
   "name": "python3"
  },
  "language_info": {
   "codemirror_mode": {
    "name": "ipython",
    "version": 3
   },
   "file_extension": ".py",
   "mimetype": "text/x-python",
   "name": "python",
   "nbconvert_exporter": "python",
   "pygments_lexer": "ipython3",
   "version": "3.7.3"
  }
 },
 "nbformat": 4,
 "nbformat_minor": 4
}
